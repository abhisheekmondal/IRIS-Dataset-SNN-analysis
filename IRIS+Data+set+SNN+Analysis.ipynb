{
 "cells": [
  {
   "cell_type": "code",
   "execution_count": 5,
   "metadata": {
    "collapsed": true
   },
   "outputs": [],
   "source": [
    "from sklearn import datasets\n",
    "import numpy as np\n",
    "\n",
    "iris = datasets.load_iris()"
   ]
  },
  {
   "cell_type": "code",
   "execution_count": 2,
   "metadata": {
    "collapsed": true
   },
   "outputs": [],
   "source": [
    "#extracting first 100 samples pertaining #to iris setosa and verginica  \n",
    "\n",
    "X = iris.data[:100, :4]  \n"
   ]
  },
  {
   "cell_type": "code",
   "execution_count": 3,
   "metadata": {
    "collapsed": true
   },
   "outputs": [],
   "source": [
    "#actual output  \n",
    "\n",
    "Y = iris.target[:100]"
   ]
  },
  {
   "cell_type": "code",
   "execution_count": 6,
   "metadata": {},
   "outputs": [],
   "source": [
    "def normalize(data):\n",
    "    col_max = np.max(data, axis = 0)\n",
    "    col_min = np.min(data, axis = 0)\n",
    "    return np.divide(data - col_min, col_max - col_min)  \n",
    "X_norm = normalize(X)"
   ]
  },
  {
   "cell_type": "code",
   "execution_count": 7,
   "metadata": {},
   "outputs": [
    {
     "name": "stdout",
     "output_type": "stream",
     "text": [
      "(4, 100)\n",
      "(1, 100)\n"
     ]
    }
   ],
   "source": [
    "X_data = X_norm.T\n",
    "Y_data = Y.reshape(1,100)\n",
    "print(X_data.shape)\n",
    "print(Y_data.shape)\n"
   ]
  },
  {
   "cell_type": "code",
   "execution_count": 8,
   "metadata": {
    "collapsed": true
   },
   "outputs": [],
   "source": [
    "def initialiseNetwork(num_features):\n",
    "    W = np.zeros((num_features, 1))\n",
    "    b = 0\n",
    "    parameters = {\"W\": W, \"b\": b}\n",
    "    return parameters"
   ]
  },
  {
   "cell_type": "code",
   "execution_count": 9,
   "metadata": {
    "collapsed": true
   },
   "outputs": [],
   "source": [
    "def sigmoid(z):\n",
    "    return 1/(1 + np.exp(-z))"
   ]
  },
  {
   "cell_type": "code",
   "execution_count": 10,
   "metadata": {
    "collapsed": true
   },
   "outputs": [],
   "source": [
    "def forwardPropagation(X, Y, parameters):\n",
    "    W = parameters[\"W\"]\n",
    "    b = parameters[\"b\"]\n",
    "    Z = np.dot(W.T,X) + b\n",
    "    A = sigmoid(Z)\n",
    "    return A"
   ]
  },
  {
   "cell_type": "code",
   "execution_count": 11,
   "metadata": {
    "collapsed": true
   },
   "outputs": [],
   "source": [
    "def cost(A, Y, num_samples):\n",
    "    return -1/num_samples *np.sum(Y*np.log(A) + (1-Y)*(np.log(1-A)))"
   ]
  },
  {
   "cell_type": "code",
   "execution_count": 12,
   "metadata": {
    "collapsed": true
   },
   "outputs": [],
   "source": [
    "def backPropagration(X, Y, A, num_samples):\n",
    "    dZ = A - Y\n",
    "    dW = (np.dot(X,dZ.T))/num_samples\n",
    "    db = np.sum(dZ)/num_samples\n",
    "    return dW, db"
   ]
  },
  {
   "cell_type": "code",
   "execution_count": 13,
   "metadata": {
    "collapsed": true
   },
   "outputs": [],
   "source": [
    "def updateParameters(parameters, dW, db, learning_rate):\n",
    "    W = parameters[\"W\"] - (learning_rate * dW)\n",
    "    b = parameters[\"b\"] - (learning_rate * db)\n",
    "    return {\"W\": W, \"b\": b}\n"
   ]
  },
  {
   "cell_type": "code",
   "execution_count": 14,
   "metadata": {
    "collapsed": true
   },
   "outputs": [],
   "source": [
    "def model(X, Y, num_iter, learning_rate):\n",
    "    num_features = X.shape[0]\n",
    "    num_samples = float(X.shape[1])\n",
    "    parameters = initialiseNetwork(num_features)\n",
    "    for i in range(num_iter):\n",
    "        A = forwardPropagation(X, Y, parameters)\n",
    "        if(i%100 == 0):\n",
    "            print(\"cost after {} iteration: {}\".format(i, cost(A, Y, num_samples)))\n",
    "        dW, db = backPropagration(X, Y, A, num_samples)\n",
    "        parameters = updateParameters(parameters, dW, db, learning_rate)\n",
    "    return parameters\n"
   ]
  },
  {
   "cell_type": "code",
   "execution_count": 15,
   "metadata": {},
   "outputs": [
    {
     "name": "stdout",
     "output_type": "stream",
     "text": [
      "cost after 0 iteration: 0.6931471805599453\n",
      "cost after 100 iteration: 0.36132373760190467\n",
      "cost after 200 iteration: 0.23469972745769352\n",
      "cost after 300 iteration: 0.1715136617042958\n",
      "cost after 400 iteration: 0.13459820766586653\n",
      "cost after 500 iteration: 0.1106339303016585\n",
      "cost after 600 iteration: 0.0938999866313952\n",
      "cost after 700 iteration: 0.08158135847624427\n",
      "cost after 800 iteration: 0.0721454431570945\n",
      "cost after 900 iteration: 0.06469097982715424\n"
     ]
    }
   ],
   "source": [
    "parameters = model(X_data, Y, 1000, 0.1)"
   ]
  },
  {
   "cell_type": "code",
   "execution_count": null,
   "metadata": {
    "collapsed": true
   },
   "outputs": [],
   "source": []
  }
 ],
 "metadata": {
  "kernelspec": {
   "display_name": "Python 3",
   "language": "python",
   "name": "python3"
  },
  "language_info": {
   "codemirror_mode": {
    "name": "ipython",
    "version": 3
   },
   "file_extension": ".py",
   "mimetype": "text/x-python",
   "name": "python",
   "nbconvert_exporter": "python",
   "pygments_lexer": "ipython3",
   "version": "3.6.3"
  }
 },
 "nbformat": 4,
 "nbformat_minor": 2
}
